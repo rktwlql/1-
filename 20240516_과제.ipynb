{
  "nbformat": 4,
  "nbformat_minor": 0,
  "metadata": {
    "colab": {
      "provenance": [],
      "authorship_tag": "ABX9TyOc+4hekq/mZ3PAeRESpq/D"
    },
    "kernelspec": {
      "name": "python3",
      "display_name": "Python 3"
    },
    "language_info": {
      "name": "python"
    }
  },
  "cells": [
    {
      "cell_type": "code",
      "execution_count": 6,
      "metadata": {
        "colab": {
          "base_uri": "https://localhost:8080/",
          "height": 590
        },
        "id": "gaOltsNwDDyo",
        "outputId": "8415cc80-6c8d-4fd3-e26a-1fb8c83ea959"
      },
      "outputs": [
        {
          "output_type": "stream",
          "name": "stdout",
          "text": [
            "경기가 열린 곳은? 파리\n",
            "경기가 열린 시간은? 오늘\n",
            "상대 팀은? 맨유\n",
            "손흥민은 몇 골을 넣었나요? 1\n",
            "도움은 몇 개인가요? 1\n",
            "손흥민 팀이 넣은 골 수는?3\n",
            "상대 팀이 넣은 골 수는? 2\n",
            "[프리미어 리그 속보(2024-05-22 02:21:47.331874)]\n",
            "손흥민 선수는 파리에서 오늘에 열린 경기에 출전하였습니다. 상대 팀은 맨유입니다. 손흥민 선수의 팀이 3골을 넣어 2골을 넣은 상대 팀을 이겼습니다. 손흥민 선수는 1골에 도움 1개로 승리를 크게 이끌었습니다. \n"
          ]
        },
        {
          "output_type": "error",
          "ename": "ModuleNotFoundError",
          "evalue": "No module named 'gtts'",
          "traceback": [
            "\u001b[0;31m---------------------------------------------------------------------------\u001b[0m",
            "\u001b[0;31mModuleNotFoundError\u001b[0m                       Traceback (most recent call last)",
            "\u001b[0;32m<ipython-input-6-0f5852dfbc6f>\u001b[0m in \u001b[0;36m<cell line: 34>\u001b[0;34m()\u001b[0m\n\u001b[1;32m     32\u001b[0m \u001b[0mprint\u001b[0m\u001b[0;34m(\u001b[0m\u001b[0mnews\u001b[0m\u001b[0;34m)\u001b[0m\u001b[0;34m\u001b[0m\u001b[0;34m\u001b[0m\u001b[0m\n\u001b[1;32m     33\u001b[0m \u001b[0;34m\u001b[0m\u001b[0m\n\u001b[0;32m---> 34\u001b[0;31m \u001b[0;32mfrom\u001b[0m \u001b[0mgtts\u001b[0m \u001b[0;32mimport\u001b[0m \u001b[0mgTTS\u001b[0m\u001b[0;34m\u001b[0m\u001b[0;34m\u001b[0m\u001b[0m\n\u001b[0m\u001b[1;32m     35\u001b[0m \u001b[0;32mimport\u001b[0m \u001b[0mplaysound\u001b[0m\u001b[0;34m\u001b[0m\u001b[0;34m\u001b[0m\u001b[0m\n\u001b[1;32m     36\u001b[0m \u001b[0;34m\u001b[0m\u001b[0m\n",
            "\u001b[0;31mModuleNotFoundError\u001b[0m: No module named 'gtts'",
            "",
            "\u001b[0;31m---------------------------------------------------------------------------\u001b[0;32m\nNOTE: If your import is failing due to a missing package, you can\nmanually install dependencies using either !pip or !apt.\n\nTo view examples of installing some common dependencies, click the\n\"Open Examples\" button below.\n\u001b[0;31m---------------------------------------------------------------------------\u001b[0m\n"
          ],
          "errorDetails": {
            "actions": [
              {
                "action": "open_url",
                "actionText": "Open Examples",
                "url": "/notebooks/snippets/importing_libraries.ipynb"
              }
            ]
          }
        }
      ],
      "source": [
        "from datetime import datetime\n",
        "\n",
        "place=input(\"경기가 열린 곳은? \")\n",
        "time=input(\"경기가 열린 시간은? \")\n",
        "opponent=input(\"상대 팀은? \")\n",
        "goals=input(\"손흥민은 몇 골을 넣었나요? \")\n",
        "aids=input(\"도움은 몇 개인가요? \")\n",
        "score_me=input(\"손흥민 팀이 넣은 골 수는?\" )\n",
        "score_you=input(\"상대 팀이 넣은 골 수는? \")\n",
        "\n",
        "news=\"[프리미어 리그 속보(\"+str(datetime.now())+\")]\\n\"\n",
        "news=news+\"손흥민 선수는 \"+place+\"에서 \"+time+\"에 열린 경기에 출전하였습니다. \"\n",
        "news=news+\"상대 팀은 \"+opponent+\"입니다. \"\n",
        "\n",
        "if score_me>score_you:\n",
        "  news=news+\"손흥민 선수의 팀이 \"+score_me+\"골을 넣어 \"+score_you+\"골을 넣은 상대 팀을 이겼습니다. \"\n",
        "elif score_me<score_you:\n",
        "  news=news+\"손흥민 선수의 팀이 \"+score_me+\"골을 넣어 \"+score_you+\"골을 넣은 상대 팀에게 졌습니다. \"\n",
        "else:\n",
        "  news=news+\"두 팀은 \"+score_me+\"대\"+score_you+\"로 비겼습니다. \"\n",
        "\n",
        "\n",
        "if int(goals)>0 and int(aids)>0:\n",
        "  news=news+\"손흥민 선수는 \"+goals+\"골에 도움 \"+aids+\"개로 승리를 크게 이끌었습니다. \"\n",
        "elif int(goals)>0 and int(aids)==0:\n",
        "  news=news+\"손흥민 선수는 \"+goals+\"골로 승리를 크게 이끌었습니다. \"\n",
        "elif int(goals)==0 and int(aids)>0:\n",
        "  news=news+\"손흥민 선수는 골은 없지만 도움 \"+aids+\"개로 승리하는 데 공헌하였습니다. \"\n",
        "else:\n",
        "  news=news+\"아쉽게도 이번 경기에서 손흥민의 발끝은 침묵을 지켰습니다. \"\n",
        "\n",
        "print(news)\n",
        "\n",
        "from gtts import gTTS\n",
        "import playsound\n",
        "\n",
        "tts=gTTS(text=news, lang='ko')\n",
        "tts.save(\"news_Son.mp3\")\n",
        "playsound.playsoung(\"news_son.mp3\",True)"
      ]
    }
  ]
}